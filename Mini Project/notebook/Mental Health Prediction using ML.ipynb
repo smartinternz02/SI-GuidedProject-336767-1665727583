{
 "cells": [
  {
   "cell_type": "markdown",
   "id": "8af2a49e",
   "metadata": {},
   "source": [
    "# Mental Health Prediction "
   ]
  },
  {
   "cell_type": "markdown",
   "id": "e7c9163a",
   "metadata": {},
   "source": [
    "    The main purpose of the Mental Health Prediction system is to predict whether a person needs to seek Mental health treat-ment or not based on inputs provided by them. "
   ]
  },
  {
   "cell_type": "markdown",
   "id": "b078abcf",
   "metadata": {},
   "source": [
    "# Load Data"
   ]
  },
  {
   "cell_type": "code",
   "execution_count": 4,
   "id": "f1006df2",
   "metadata": {},
   "outputs": [],
   "source": [
    "import numpy as np\n",
    "import pandas as pd\n",
    "import seaborn as sb\n",
    "import matplotlib.pyplot as plt "
   ]
  },
  {
   "cell_type": "code",
   "execution_count": 5,
   "id": "bcdd2f7e",
   "metadata": {},
   "outputs": [
    {
     "ename": "SyntaxError",
     "evalue": "(unicode error) 'unicodeescape' codec can't decode bytes in position 2-3: truncated \\UXXXXXXXX escape (1033209281.py, line 1)",
     "output_type": "error",
     "traceback": [
      "\u001b[1;36m  Input \u001b[1;32mIn [5]\u001b[1;36m\u001b[0m\n\u001b[1;33m    data = pd.read_csv(\"C:\\Users\\TAUSIF AHMED\\Desktop\\Mini Project\\Data set\\survey.csv\")\u001b[0m\n\u001b[1;37m                                                                                       ^\u001b[0m\n\u001b[1;31mSyntaxError\u001b[0m\u001b[1;31m:\u001b[0m (unicode error) 'unicodeescape' codec can't decode bytes in position 2-3: truncated \\UXXXXXXXX escape\n"
     ]
    }
   ],
   "source": [
    "data = pd.read_csv(\"C:\\Users\\TAUSIF AHMED\\Desktop\\Mini Project\\Data set\\survey.csv\")"
   ]
  },
  {
   "cell_type": "code",
   "execution_count": 6,
   "id": "12c1ada8",
   "metadata": {},
   "outputs": [
    {
     "ename": "NameError",
     "evalue": "name 'data' is not defined",
     "output_type": "error",
     "traceback": [
      "\u001b[1;31m---------------------------------------------------------------------------\u001b[0m",
      "\u001b[1;31mNameError\u001b[0m                                 Traceback (most recent call last)",
      "Input \u001b[1;32mIn [6]\u001b[0m, in \u001b[0;36m<cell line: 1>\u001b[1;34m()\u001b[0m\n\u001b[1;32m----> 1\u001b[0m \u001b[43mdata\u001b[49m\u001b[38;5;241m.\u001b[39mhead()\n\u001b[0;32m      2\u001b[0m data\u001b[38;5;241m.\u001b[39mshape\n",
      "\u001b[1;31mNameError\u001b[0m: name 'data' is not defined"
     ]
    }
   ],
   "source": [
    "data.head()\n",
    "data.shape"
   ]
  },
  {
   "cell_type": "code",
   "execution_count": null,
   "id": "8307795d",
   "metadata": {},
   "outputs": [],
   "source": [
    "data.tail()"
   ]
  },
  {
   "cell_type": "code",
   "execution_count": null,
   "id": "eb1f40c4",
   "metadata": {},
   "outputs": [],
   "source": [
    "data.info()"
   ]
  },
  {
   "cell_type": "markdown",
   "id": "27a83f15",
   "metadata": {},
   "source": [
    "# Data Preprocessing"
   ]
  },
  {
   "cell_type": "markdown",
   "id": "84ff389c",
   "metadata": {},
   "source": [
    "    we need to clean the dataset properly in order to fetch good result,for this we need to follow the below steps.\n",
    "     1.Removing unnecessary columns.\n",
    "     2.Handling Null values and dealing with wrongly entered data."
   ]
  },
  {
   "cell_type": "code",
   "execution_count": null,
   "id": "a162dc01",
   "metadata": {},
   "outputs": [],
   "source": [
    "data['Country'].value_counts()"
   ]
  },
  {
   "cell_type": "code",
   "execution_count": null,
   "id": "29a55e87",
   "metadata": {},
   "outputs": [],
   "source": [
    "data['Country'].value_counts().plot(kind='bar',figsize=(10,8))"
   ]
  },
  {
   "cell_type": "markdown",
   "id": "38f83975",
   "metadata": {},
   "source": [
    "    Since the countries are not evenly distributed, keeping this column  will induce bias in our model.  So we will be removing country and   state columns.  We will also remove timestamp and comments columns as they do not contribute to providing relevant information."
   ]
  },
  {
   "cell_type": "code",
   "execution_count": null,
   "id": "5d8e31b8",
   "metadata": {},
   "outputs": [],
   "source": [
    "# Removing unwanted features.\n",
    "data = data.drop(['Country','state','Timestamp','comments'],axis=1)"
   ]
  },
  {
   "cell_type": "code",
   "execution_count": null,
   "id": "46b46466",
   "metadata": {},
   "outputs": [],
   "source": [
    "# Checking the null values.\n",
    "data.isnull().sum()"
   ]
  },
  {
   "cell_type": "code",
   "execution_count": null,
   "id": "411cbf44",
   "metadata": {},
   "outputs": [],
   "source": [
    "# Replacing nan with mode\n",
    "print(data['self_employed'].value_counts())\n",
    "data['self_employed'] = data['self_employed'].fillna(data['self_employed'].mode()[0])"
   ]
  },
  {
   "cell_type": "code",
   "execution_count": null,
   "id": "f5dcf17c",
   "metadata": {},
   "outputs": [],
   "source": [
    "#Replacing null values with No\n",
    "data['self_employed'].fillna('No', inplace=True)"
   ]
  },
  {
   "cell_type": "code",
   "execution_count": null,
   "id": "2352fe28",
   "metadata": {},
   "outputs": [],
   "source": [
    "print(data['work_interfere'].value_counts())\n",
    "data['work_interfere'] = data['work_interfere'].fillna(data['work_interfere'].mode()[0])"
   ]
  },
  {
   "cell_type": "code",
   "execution_count": null,
   "id": "b99146df",
   "metadata": {},
   "outputs": [],
   "source": [
    "#Replacing null values with N/A\n",
    "data['work_interfere'].fillna('N/A',inplace=True)"
   ]
  },
  {
   "cell_type": "code",
   "execution_count": null,
   "id": "d3aeaa38",
   "metadata": {},
   "outputs": [],
   "source": [
    "data.isnull().sum()"
   ]
  },
  {
   "cell_type": "code",
   "execution_count": null,
   "id": "d3e6c22b",
   "metadata": {},
   "outputs": [],
   "source": [
    "# Handling the Data\n",
    "data['Age'].value_counts()"
   ]
  },
  {
   "cell_type": "code",
   "execution_count": null,
   "id": "601c5e67",
   "metadata": {},
   "outputs": [],
   "source": [
    "data['Age'].value_counts().plot(kind= 'bar',figsize=(10,8))"
   ]
  },
  {
   "cell_type": "code",
   "execution_count": null,
   "id": "e2dbb6e7",
   "metadata": {},
   "outputs": [],
   "source": [
    "data.drop(data[(data['Age']>60) | (data['Age']<18)].index, inplace=True)"
   ]
  },
  {
   "cell_type": "code",
   "execution_count": null,
   "id": "19c6d024",
   "metadata": {},
   "outputs": [],
   "source": [
    "#Resetting the index\n",
    "data.reset_index(drop=True, inplace=True)"
   ]
  },
  {
   "cell_type": "code",
   "execution_count": null,
   "id": "d9d738d5",
   "metadata": {},
   "outputs": [],
   "source": [
    "data['Gender'].value_counts()"
   ]
  },
  {
   "cell_type": "code",
   "execution_count": null,
   "id": "b5bd03f4",
   "metadata": {},
   "outputs": [],
   "source": [
    "data['Gender'].value_counts().plot(kind='bar',figsize=(10,8))"
   ]
  },
  {
   "cell_type": "code",
   "execution_count": null,
   "id": "b942e729",
   "metadata": {},
   "outputs": [],
   "source": [
    "data['Gender'].replace(['Male','male','M','m','Male','Cis Male','Man','Cis male',\n",
    "                        'Mail','Male-ish','Male(CIS)','Cis Man','msle','Malr','Mal','maile','Make',],'Male', inplace = True)\n",
    "data['Gender'].replace(['Female','female','F','f','Woman','Female','femail','Cis Female','Cis-female/femme','Femake','Female(Cis)','woman',], 'Female', inplace = True)\n",
    "data['Gender'].replace(['Female(trans)','queer/she/they','non-binary','fluid','queer','Androgyne','Trans-female','male leaning androgynous','Agender','A little about you','Nah','All','ostensibly male, unsure what that really means','Genderqueer','Enby','p','Neuter','something kinda male?','Guy (-ish) ^_^','Trans woman',], 'Non-Binary', inplace = True)"
   ]
  },
  {
   "cell_type": "code",
   "execution_count": null,
   "id": "81894c58",
   "metadata": {},
   "outputs": [],
   "source": [
    "#Grouping all responses for gender into 3 major categories - Male, Female, Non-Binary\n",
    "data['Gender'].replace(['Male ', 'male', 'M', 'm', 'Male', 'Cis Male',\n",
    "                     'Man', 'cis male', 'Mail', 'Male-ish', 'Male (CIS)',\n",
    "                      'Cis Man', 'msle', 'Malr', 'Mal', 'maile', 'Make',], 'Male', inplace = True)\n",
    "\n",
    "data['Gender'].replace(['Female ', 'female', 'F', 'f', 'Woman', 'Female',\n",
    "                     'femail', 'Cis Female', 'cis-female/femme', 'Femake', 'Female (cis)',\n",
    "                     'woman',], 'Female', inplace = True)\n",
    "\n",
    "data[\"Gender\"].replace(['Female (trans)', 'queer/she/they', 'non-binary',\n",
    "                     'fluid', 'queer', 'Androgyne', 'Trans-female', 'male leaning androgynous',\n",
    "                      'Agender', 'A little about you', 'Nah', 'All',\n",
    "                      'ostensibly male, unsure what that really means',\n",
    "                      'Genderqueer', 'Enby', 'p', 'Neuter', 'something kinda male?',\n",
    "                      'Guy (-ish) ^_^', 'Trans woman',], 'Non-Binary', inplace = True)"
   ]
  },
  {
   "cell_type": "code",
   "execution_count": null,
   "id": "d4895db0",
   "metadata": {},
   "outputs": [],
   "source": [
    "data['Gender'].value_counts()"
   ]
  },
  {
   "cell_type": "markdown",
   "id": "a1cf3614",
   "metadata": {},
   "source": [
    "# Data Analysis And Visualization"
   ]
  },
  {
   "cell_type": "code",
   "execution_count": null,
   "id": "9be1f09b",
   "metadata": {},
   "outputs": [],
   "source": [
    "data.columns"
   ]
  },
  {
   "cell_type": "code",
   "execution_count": null,
   "id": "50513023",
   "metadata": {},
   "outputs": [],
   "source": [
    "data['no_employees'].value_counts()"
   ]
  },
  {
   "cell_type": "markdown",
   "id": "8ce1ea22",
   "metadata": {},
   "source": [
    "## Univariate Analysis"
   ]
  },
  {
   "cell_type": "code",
   "execution_count": null,
   "id": "928238cb",
   "metadata": {},
   "outputs": [],
   "source": [
    "# Seaborn package provides a function called distplot, which helps us to find the distribution of specific features in our dataset\n",
    "sb.distplot(data['Age'])"
   ]
  },
  {
   "cell_type": "code",
   "execution_count": null,
   "id": "3fc671ac",
   "metadata": {},
   "outputs": [],
   "source": [
    "sb.distplot(data['Age'])\n",
    "plt.title('Distribution - Age')\n",
    "plt.xlabel(\"Age\")"
   ]
  },
  {
   "cell_type": "markdown",
   "id": "4bbf6765",
   "metadata": {},
   "source": [
    "# Bivariate Analysis"
   ]
  },
  {
   "cell_type": "markdown",
   "id": "528c850b",
   "metadata": {},
   "source": [
    " We use bivariate analysis to find the relation between two features.  Here we are visualising the relationship of various features with respect to treatment, which is our target variable. "
   ]
  },
  {
   "cell_type": "markdown",
   "id": "2af60257",
   "metadata": {},
   "source": [
    "## Employment type  and treatment"
   ]
  },
  {
   "cell_type": "code",
   "execution_count": null,
   "id": "84214490",
   "metadata": {},
   "outputs": [],
   "source": [
    "plt.figure(figsize=(10,40))\n",
    "plt.subplot(9,2,1)\n",
    "sb.countplot(data['self_employed'], hue = data['treatment'])\n",
    "plt.title('Employment Type')"
   ]
  },
  {
   "cell_type": "markdown",
   "id": "5ba55a61",
   "metadata": {},
   "source": [
    "## Family history and treatment"
   ]
  },
  {
   "cell_type": "code",
   "execution_count": null,
   "id": "ebf21491",
   "metadata": {},
   "outputs": [],
   "source": [
    "plt.figure(figsize=(10,40))\n",
    "plt.subplot(9,2,2)\n",
    "sb.countplot(data['family_history'], hue = data['treatment'])\n",
    "plt.title('family history')"
   ]
  },
  {
   "cell_type": "markdown",
   "id": "875a5c25",
   "metadata": {},
   "source": [
    "## Work interference and treatment"
   ]
  },
  {
   "cell_type": "code",
   "execution_count": null,
   "id": "712fc532",
   "metadata": {},
   "outputs": [],
   "source": [
    "plt.figure(figsize=(10,40))\n",
    "plt.subplot(9,2,3)\n",
    "sb.countplot(data['work_interfere'], hue = data['treatment'])\n",
    "plt.title('Work Interfere')"
   ]
  },
  {
   "cell_type": "markdown",
   "id": "a3924563",
   "metadata": {},
   "source": [
    "## Work type and treatment"
   ]
  },
  {
   "cell_type": "code",
   "execution_count": null,
   "id": "67264fd5",
   "metadata": {},
   "outputs": [],
   "source": [
    "plt.figure(figsize=(10,40))\n",
    "plt.subplot(9,2,4)\n",
    "sb.countplot(data['remote_work'], hue = data['treatment'])\n",
    "plt.title('Work Type')"
   ]
  },
  {
   "cell_type": "markdown",
   "id": "69973b0b",
   "metadata": {},
   "source": [
    "## Company and treatment"
   ]
  },
  {
   "cell_type": "code",
   "execution_count": null,
   "id": "d0202163",
   "metadata": {},
   "outputs": [],
   "source": [
    "plt.figure(figsize=(10,40))\n",
    "plt.subplot(9,2,5)\n",
    "sb.countplot(data['tech_company'], hue = data['treatment'])\n",
    "plt.title('Company')"
   ]
  },
  {
   "cell_type": "markdown",
   "id": "5b97f69e",
   "metadata": {},
   "source": [
    "## Benefits and treatment"
   ]
  },
  {
   "cell_type": "code",
   "execution_count": null,
   "id": "11dd51f5",
   "metadata": {},
   "outputs": [],
   "source": [
    "plt.figure(figsize=(10,40))\n",
    "plt.subplot(9,2,6)\n",
    "sb.countplot(data['benefits'], hue = data['treatment'])\n",
    "plt.title('Benefits')"
   ]
  },
  {
   "cell_type": "markdown",
   "id": "7f8de6cd",
   "metadata": {},
   "source": [
    "## Care options and treatment"
   ]
  },
  {
   "cell_type": "code",
   "execution_count": null,
   "id": "8dabcaaf",
   "metadata": {},
   "outputs": [],
   "source": [
    "plt.figure(figsize=(10,40))\n",
    "plt.subplot(9,2,7)\n",
    "sb.countplot(data['care_options'], hue = data['treatment'])\n",
    "plt.title('Care Options')"
   ]
  },
  {
   "cell_type": "markdown",
   "id": "4e9a2777",
   "metadata": {},
   "source": [
    "## Mental vs Physical health"
   ]
  },
  {
   "cell_type": "code",
   "execution_count": null,
   "id": "9a42abdc",
   "metadata": {},
   "outputs": [],
   "source": [
    "plt.figure(figsize=(10,40))\n",
    "plt.subplot(9,2,8)\n",
    "sb.countplot(data['mental_vs_physical'], hue = data['treatment'])\n",
    "plt.title('Equal importance to Mental and Physical health')"
   ]
  },
  {
   "cell_type": "markdown",
   "id": "4e805e0f",
   "metadata": {},
   "source": [
    "## Wellness program and treatment"
   ]
  },
  {
   "cell_type": "code",
   "execution_count": null,
   "id": "3d95d32b",
   "metadata": {},
   "outputs": [],
   "source": [
    "plt.figure(figsize=(10,40))\n",
    "plt.subplot(9,2,9)\n",
    "sb.countplot(data['wellness_program'], hue = data['treatment'])\n",
    "plt.title('Wellness Program')"
   ]
  },
  {
   "cell_type": "markdown",
   "id": "844c4a05",
   "metadata": {},
   "source": [
    "## Anonymity and Treatment"
   ]
  },
  {
   "cell_type": "code",
   "execution_count": null,
   "id": "e20367e8",
   "metadata": {},
   "outputs": [],
   "source": [
    "plt.figure(figsize=(10,40))\n",
    "plt.subplot(9,2,10)\n",
    "sb.countplot(data['anonymity'], hue = data['treatment'])\n",
    "plt.title('Anonymity')"
   ]
  },
  {
   "cell_type": "markdown",
   "id": "a39ab146",
   "metadata": {},
   "source": [
    "## Leave and Treatment"
   ]
  },
  {
   "cell_type": "code",
   "execution_count": null,
   "id": "31e9f3ea",
   "metadata": {},
   "outputs": [],
   "source": [
    "plt.figure(figsize=(10,40))\n",
    "plt.subplot(9,2,11)\n",
    "sb.countplot(data['leave'], hue = data['treatment'])\n",
    "plt.title('Leave')"
   ]
  },
  {
   "cell_type": "markdown",
   "id": "fd85eae2",
   "metadata": {},
   "source": [
    "## Mental health consequence and treatment"
   ]
  },
  {
   "cell_type": "code",
   "execution_count": null,
   "id": "d9a29d81",
   "metadata": {},
   "outputs": [],
   "source": [
    "plt.figure(figsize=(10,40))\n",
    "plt.subplot(9,2,12)\n",
    "sb.countplot(data['mental_health_consequence'], hue = data['treatment'])\n",
    "plt.title('mental Health consequence')"
   ]
  },
  {
   "cell_type": "markdown",
   "id": "f93e85f7",
   "metadata": {},
   "source": [
    "## Physical health consequence and treatment"
   ]
  },
  {
   "cell_type": "code",
   "execution_count": null,
   "id": "0553beaf",
   "metadata": {},
   "outputs": [],
   "source": [
    "plt.figure(figsize=(10,40))\n",
    "plt.subplot(9,2,13)\n",
    "sb.countplot(data['phys_health_consequence'], hue = data['treatment'])\n",
    "plt.title('Physical Health Consequence')"
   ]
  },
  {
   "cell_type": "markdown",
   "id": "e84a506d",
   "metadata": {},
   "source": [
    "## Discussion with coworkers and treatment"
   ]
  },
  {
   "cell_type": "code",
   "execution_count": null,
   "id": "a75f1c7a",
   "metadata": {},
   "outputs": [],
   "source": [
    "plt.figure(figsize=(10,40))\n",
    "plt.subplot(9,2,14)\n",
    "sb.countplot(data['coworkers'], hue = data['treatment'])\n",
    "plt.title('Discussion with Coworkers')"
   ]
  },
  {
   "cell_type": "markdown",
   "id": "ff014a30",
   "metadata": {},
   "source": [
    "## Discussion with supervisor and treatment"
   ]
  },
  {
   "cell_type": "code",
   "execution_count": null,
   "id": "be657f31",
   "metadata": {},
   "outputs": [],
   "source": [
    "plt.figure(figsize=(10,40))\n",
    "plt.subplot(9,2,15)\n",
    "sb.countplot(data['supervisor'], hue = data['treatment'])\n",
    "plt.title('Discussion with Supervisor')"
   ]
  },
  {
   "cell_type": "markdown",
   "id": "2203b002",
   "metadata": {},
   "source": [
    "## Mental health discussion during interview and treatment"
   ]
  },
  {
   "cell_type": "code",
   "execution_count": null,
   "id": "f2a79dd8",
   "metadata": {},
   "outputs": [],
   "source": [
    "plt.figure(figsize=(10,40))\n",
    "plt.subplot(9,2,16)\n",
    "sb.countplot(data['mental_health_interview'], hue = data['treatment'])\n",
    "plt.title('Discussion with Interviewer(mental)')"
   ]
  },
  {
   "cell_type": "markdown",
   "id": "81e9687d",
   "metadata": {},
   "source": [
    "## Physical health discussion during interview and treatment"
   ]
  },
  {
   "cell_type": "code",
   "execution_count": null,
   "id": "9fe3dce5",
   "metadata": {},
   "outputs": [],
   "source": [
    "# plt.figure(figsize=(10,40))\n",
    "plt.subplot(9,2,17)\n",
    "sb.countplot(data['phys_health_interview'], hue = data['treatment'])\n",
    "plt.title('Discussion with Interviewer(Physical)')"
   ]
  },
  {
   "cell_type": "markdown",
   "id": "49e4fe66",
   "metadata": {},
   "source": [
    "## The consequence after disclosure and treatment"
   ]
  },
  {
   "cell_type": "code",
   "execution_count": null,
   "id": "89bfb982",
   "metadata": {},
   "outputs": [],
   "source": [
    "plt.figure(figsize=(10,40))\n",
    "plt.subplot(9,2,18)\n",
    "sb.countplot(data['obs_consequence'], hue = data['treatment'])\n",
    "plt.title('Consequence after Disclosure')"
   ]
  },
  {
   "cell_type": "markdown",
   "id": "d40d35b4",
   "metadata": {},
   "source": [
    "# Descriptive Analysis"
   ]
  },
  {
   "cell_type": "code",
   "execution_count": null,
   "id": "6cc8892d",
   "metadata": {},
   "outputs": [],
   "source": [
    "data.describe(include='all')"
   ]
  },
  {
   "cell_type": "markdown",
   "id": "b75d1d68",
   "metadata": {},
   "source": [
    "# Model Building"
   ]
  },
  {
   "cell_type": "markdown",
   "id": "4b14cb36",
   "metadata": {},
   "source": [
    "## Encoding"
   ]
  },
  {
   "cell_type": "code",
   "execution_count": null,
   "id": "81c93b08",
   "metadata": {},
   "outputs": [],
   "source": [
    "obj_cols = ['Gender', 'self_employed', 'family_history', 'treatment',\n",
    "       'work_interfere', 'no_employees', 'remote_work', 'tech_company',\n",
    "       'benefits', 'care_options', 'wellness_program', 'seek_help',\n",
    "       'anonymity', 'leave', 'mental_health_consequence',\n",
    "       'phys_health_consequence', 'coworkers', 'supervisor',\n",
    "       'mental_health_interview', 'phys_health_interview',\n",
    "       'mental_vs_physical', 'obs_consequence']"
   ]
  },
  {
   "cell_type": "markdown",
   "id": "f4745afd",
   "metadata": {},
   "source": [
    "## Handling Categorical Values"
   ]
  },
  {
   "cell_type": "code",
   "execution_count": null,
   "id": "5b9fbd13",
   "metadata": {},
   "outputs": [],
   "source": [
    "from sklearn.compose import ColumnTransformer\n",
    "from sklearn.preprocessing import LabelEncoder, OrdinalEncoder"
   ]
  },
  {
   "cell_type": "code",
   "execution_count": null,
   "id": "ea2cefcb",
   "metadata": {},
   "outputs": [],
   "source": [
    "X = data.drop('treatment', axis = 1)\n",
    "y = data['treatment']"
   ]
  },
  {
   "cell_type": "code",
   "execution_count": null,
   "id": "5af2526d",
   "metadata": {},
   "outputs": [],
   "source": [
    "#Ordinal encoding the categorical features\n",
    "ct = ColumnTransformer([('oe',OrdinalEncoder(),['Gender', 'self_employed', 'family_history',\n",
    "       'work_interfere', 'no_employees', 'remote_work', 'tech_company',\n",
    "       'benefits', 'care_options', 'wellness_program', 'seek_help',\n",
    "       'anonymity', 'leave', 'mental_health_consequence',\n",
    "       'phys_health_consequence', 'coworkers', 'supervisor',\n",
    "       'mental_health_interview', 'phys_health_interview',\n",
    "       'mental_vs_physical', 'obs_consequence'])],remainder='passthrough')"
   ]
  },
  {
   "cell_type": "code",
   "execution_count": null,
   "id": "03c05a85",
   "metadata": {},
   "outputs": [],
   "source": [
    "X = ct.fit_transform(X)"
   ]
  },
  {
   "cell_type": "code",
   "execution_count": null,
   "id": "bfd36cb5",
   "metadata": {},
   "outputs": [],
   "source": [
    "#Label encoding the target\n",
    "le = LabelEncoder()\n",
    "y = le.fit_transform(y)"
   ]
  },
  {
   "cell_type": "code",
   "execution_count": null,
   "id": "58ef6aec",
   "metadata": {},
   "outputs": [],
   "source": [
    "X"
   ]
  },
  {
   "cell_type": "code",
   "execution_count": null,
   "id": "ee53fe46",
   "metadata": {},
   "outputs": [],
   "source": [
    "y"
   ]
  },
  {
   "cell_type": "code",
   "execution_count": null,
   "id": "1d6dfada",
   "metadata": {},
   "outputs": [],
   "source": [
    "y.shape"
   ]
  },
  {
   "cell_type": "code",
   "execution_count": null,
   "id": "1aad039b",
   "metadata": {},
   "outputs": [],
   "source": [
    "import joblib\n",
    "joblib.dump(ct,'feature_values')"
   ]
  },
  {
   "cell_type": "markdown",
   "id": "3068ea30",
   "metadata": {},
   "source": [
    "## Splitting Data into Train and Test"
   ]
  },
  {
   "cell_type": "code",
   "execution_count": null,
   "id": "69913fde",
   "metadata": {},
   "outputs": [],
   "source": [
    "#Splitting data into train and test in the ratio 7:3\n",
    "from sklearn.model_selection import train_test_split\n",
    "X_train, X_test, y_train, y_test = train_test_split(X,y,test_size=0.3, random_state=49)"
   ]
  },
  {
   "cell_type": "code",
   "execution_count": null,
   "id": "70ccce94",
   "metadata": {},
   "outputs": [],
   "source": [
    "X_train.shape, X_test.shape, y_train.shape, y_test.shape"
   ]
  },
  {
   "cell_type": "markdown",
   "id": "d054a37a",
   "metadata": {},
   "source": [
    "## Comparing Accuracy Of Various Models"
   ]
  },
  {
   "cell_type": "code",
   "execution_count": null,
   "id": "befcf8b3",
   "metadata": {},
   "outputs": [],
   "source": [
    "from sklearn.linear_model import LogisticRegression\n",
    "from sklearn.tree import DecisionTreeClassifier\n",
    "from sklearn.neighbors import KNeighborsClassifier\n",
    "from sklearn.ensemble import RandomForestClassifier, AdaBoostClassifier, GradientBoostingClassifier\n",
    "from xgboost.sklearn import XGBClassifier\n",
    "from sklearn import metrics\n",
    "from sklearn.metrics import accuracy_score, roc_curve, confusion_matrix, classification_report, auc"
   ]
  },
  {
   "cell_type": "code",
   "execution_count": null,
   "id": "4ac1d953",
   "metadata": {},
   "outputs": [],
   "source": [
    "#Creating a dictionary of all models\n",
    "model_dict = {}\n",
    "\n",
    "model_dict['Logistic regression']= LogisticRegression(solver='liblinear',random_state=49)\n",
    "model_dict['KNN Classifier'] = KNeighborsClassifier()\n",
    "model_dict['Decision Tree Classifier'] = DecisionTreeClassifier(random_state=49)\n",
    "model_dict['Random Forest Classifier'] = RandomForestClassifier(random_state=49)\n",
    "model_dict['AdaBoost Classifier'] = AdaBoostClassifier(random_state=49)\n",
    "model_dict['Gradient Boosting Classifier'] = GradientBoostingClassifier(random_state=49)\n",
    "model_dict['XGB Classifier'] = XGBClassifier(random_state=49)"
   ]
  },
  {
   "cell_type": "code",
   "execution_count": null,
   "id": "06a24ea2",
   "metadata": {},
   "outputs": [],
   "source": [
    "#function to print accuracy of all models\n",
    "def model_test(X_train, X_test, y_train, y_test,model,model_name):\n",
    "    model.fit(X_train,y_train)\n",
    "    y_pred = model.predict(X_test) \n",
    "    accuracy = accuracy_score(y_test,y_pred)\n",
    "    print('======================================{}======================================='.format(model_name))\n",
    "    print('Score is : {}'.format(accuracy))\n",
    "    \n",
    "    print()"
   ]
  },
  {
   "cell_type": "code",
   "execution_count": null,
   "id": "f36d587e",
   "metadata": {
    "scrolled": true
   },
   "outputs": [],
   "source": [
    "for model_name,model in model_dict.items():\n",
    "    model_test(X_train, X_test, y_train, y_test, model, model_name)"
   ]
  },
  {
   "cell_type": "code",
   "execution_count": null,
   "id": "8e8f8b56",
   "metadata": {},
   "outputs": [],
   "source": [
    "#Fitting data to AdaBoost classifier\n",
    "abc = AdaBoostClassifier(random_state=99)\n",
    "abc.fit(X_train,y_train)\n",
    "pred_abc = abc.predict(X_test)\n",
    "print('Accuracy of AdaBoost=',accuracy_score(y_test,pred_abc))"
   ]
  },
  {
   "cell_type": "code",
   "execution_count": null,
   "id": "33e9febb",
   "metadata": {},
   "outputs": [],
   "source": [
    "#Plotting confusion matrix\n",
    "cf_matrix = confusion_matrix(y_test, pred_abc)\n",
    "sb.heatmap(cf_matrix/np.sum(cf_matrix), annot=True, fmt='.2%')\n",
    "plt.title('Confusion Matrix of AdaBoost Classifier')\n",
    "plt.xlabel('Predicted')\n",
    "plt.ylabel('Actual')"
   ]
  },
  {
   "cell_type": "code",
   "execution_count": null,
   "id": "705674c8",
   "metadata": {},
   "outputs": [],
   "source": [
    "#Plotting ROC curve\n",
    "fpr_abc, tpr_abc, thresholds_abc = roc_curve(y_test, pred_abc)\n",
    "roc_auc_abc = metrics.auc(fpr_abc, tpr_abc)\n",
    "plt.plot(fpr_abc, tpr_abc, color='orange', label='ROC curve (area = %0.2f)' % roc_auc_abc)\n",
    "plt.plot([0, 1], [0, 1], color='blue', linestyle='--')\n",
    "plt.xlim([0.0, 1.0])\n",
    "plt.ylim([0.0, 1.0])\n",
    "plt.title('ROC Curve')\n",
    "plt.xlabel('False Positive Rate (1 - Specificity)')\n",
    "plt.ylabel('True Positive Rate (Sensitivity)')\n",
    "plt.legend(loc=\"lower right\")\n",
    "plt.show()\n",
    "roc_curve(y_test, pred_abc)"
   ]
  },
  {
   "cell_type": "code",
   "execution_count": null,
   "id": "71070a8b",
   "metadata": {},
   "outputs": [],
   "source": [
    "#Printing classification report\n",
    "print(classification_report(y_test,pred_abc))"
   ]
  },
  {
   "cell_type": "code",
   "execution_count": null,
   "id": "a0291f54",
   "metadata": {},
   "outputs": [],
   "source": [
    "#Hyperparameter tuning using RandomizedSearchCV\n",
    "from sklearn.model_selection import RandomizedSearchCV\n",
    "params_abc = {'n_estimators': [int(x) for x in np.linspace(start = 1, stop = 50, num = 15)],\n",
    "          'learning_rate': [(0.97 + x / 100) for x in range(0, 8)],\n",
    "          }\n",
    "abc_random = RandomizedSearchCV(random_state=49,estimator=abc,param_distributions = params_abc,n_iter =50,cv=5,n_jobs=-1)"
   ]
  },
  {
   "cell_type": "code",
   "execution_count": null,
   "id": "ab161c71",
   "metadata": {},
   "outputs": [],
   "source": [
    "params_abc"
   ]
  },
  {
   "cell_type": "code",
   "execution_count": null,
   "id": "b1d762a7",
   "metadata": {},
   "outputs": [],
   "source": [
    "abc_random.fit(X_train,y_train)"
   ]
  },
  {
   "cell_type": "code",
   "execution_count": null,
   "id": "05aa274d",
   "metadata": {},
   "outputs": [],
   "source": [
    "abc_random.best_params_"
   ]
  },
  {
   "cell_type": "code",
   "execution_count": null,
   "id": "367aca10",
   "metadata": {},
   "outputs": [],
   "source": [
    "#Fitting data to tuned model\n",
    "abc_tuned = AdaBoostClassifier(random_state=49,n_estimators=11, learning_rate=1.02)\n",
    "abc_tuned.fit(X_train,y_train)\n",
    "pred_abc_tuned = abc_tuned.predict(X_test)\n",
    "print('Accuracy of AdaBoost(tuned)=',accuracy_score(y_test,pred_abc_tuned))"
   ]
  },
  {
   "cell_type": "code",
   "execution_count": null,
   "id": "392814d3",
   "metadata": {},
   "outputs": [],
   "source": [
    "cf_matrix = confusion_matrix(y_test, pred_abc_tuned)\n",
    "sb.heatmap(cf_matrix/np.sum(cf_matrix), annot=True, fmt='.2%')\n",
    "plt.title('Confusion Matrix of AdaBoost Classifier after tuning')\n",
    "plt.xlabel('Predicted')\n",
    "plt.ylabel('Actual')"
   ]
  },
  {
   "cell_type": "code",
   "execution_count": null,
   "id": "3bcc32d3",
   "metadata": {},
   "outputs": [],
   "source": [
    "fpr_abc_tuned, tpr_abc_tuned, thresholds_abc_tuned = roc_curve(y_test, pred_abc_tuned)\n",
    "roc_auc_abc_tuned = metrics.auc(fpr_abc_tuned, tpr_abc_tuned)\n",
    "plt.plot(fpr_abc_tuned, tpr_abc_tuned, color='orange', label='ROC curve (area = %0.2f)' % roc_auc_abc_tuned)\n",
    "plt.plot([0, 1], [0, 1], color='blue', linestyle='--')\n",
    "plt.xlim([0.0, 1.0])\n",
    "plt.ylim([0.0, 1.0])\n",
    "plt.title('ROC Curve')\n",
    "plt.xlabel('False Positive Rate (1 - Specificity)')\n",
    "plt.ylabel('True Positive Rate (Sensitivity)')\n",
    "plt.legend(loc=\"lower right\")\n",
    "plt.show()\n",
    "roc_curve(y_test, pred_abc_tuned)"
   ]
  },
  {
   "cell_type": "code",
   "execution_count": null,
   "id": "83e62be2",
   "metadata": {},
   "outputs": [],
   "source": [
    "print(classification_report(y_test,pred_abc_tuned))"
   ]
  },
  {
   "cell_type": "code",
   "execution_count": null,
   "id": "fec0fed6",
   "metadata": {},
   "outputs": [],
   "source": [
    "feature_cols = ['Age', 'Gender', 'self_employed', 'family_history',\n",
    "       'work_interfere', 'no_employees', 'remote_work', 'tech_company',\n",
    "       'benefits', 'care_options', 'wellness_program', 'seek_help',\n",
    "       'anonymity', 'leave', 'mental_health_consequence',\n",
    "       'phys_health_consequence', 'coworkers', 'supervisor',\n",
    "       'mental_health_interview', 'phys_health_interview',\n",
    "       'mental_vs_physical', 'obs_consequence']"
   ]
  },
  {
   "cell_type": "code",
   "execution_count": null,
   "id": "2609ddc7",
   "metadata": {},
   "outputs": [],
   "source": [
    "new = joblib.load('feature_values')"
   ]
  },
  {
   "cell_type": "code",
   "execution_count": null,
   "id": "f9f8ce3c",
   "metadata": {},
   "outputs": [],
   "source": [
    "#Testing with custom input\n",
    "p = new.transform(pd.DataFrame([[25,'Female','Yes','Yes','Never','1-5','Yes','No','Yes','Yes','No','No','Yes','Somewhat difficult','Maybe','No','Some of them','Yes','No','Yes','No','Yes']],columns=feature_cols))"
   ]
  },
  {
   "cell_type": "code",
   "execution_count": null,
   "id": "053e8c43",
   "metadata": {},
   "outputs": [],
   "source": [
    "abc_tuned.predict(p)"
   ]
  },
  {
   "cell_type": "code",
   "execution_count": null,
   "id": "95d849a7",
   "metadata": {},
   "outputs": [],
   "source": [
    "#saving model\n",
    "import pickle\n",
    "pickle.dump(abc_tuned,open('model.pkl','wb'))"
   ]
  },
  {
   "cell_type": "code",
   "execution_count": null,
   "id": "1c5fcde3",
   "metadata": {},
   "outputs": [],
   "source": []
  },
  {
   "cell_type": "code",
   "execution_count": null,
   "id": "40fa78af",
   "metadata": {},
   "outputs": [],
   "source": []
  },
  {
   "cell_type": "code",
   "execution_count": null,
   "id": "cfc1a187",
   "metadata": {},
   "outputs": [],
   "source": []
  }
 ],
 "metadata": {
  "kernelspec": {
   "display_name": "Python 3 (ipykernel)",
   "language": "python",
   "name": "python3"
  },
  "language_info": {
   "codemirror_mode": {
    "name": "ipython",
    "version": 3
   },
   "file_extension": ".py",
   "mimetype": "text/x-python",
   "name": "python",
   "nbconvert_exporter": "python",
   "pygments_lexer": "ipython3",
   "version": "3.9.12"
  }
 },
 "nbformat": 4,
 "nbformat_minor": 5
}
